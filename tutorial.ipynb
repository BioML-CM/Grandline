{
 "cells": [
  {
   "cell_type": "markdown",
   "metadata": {},
   "source": [
    "# Grandline\n",
    "\n",
    "This tutorial will guild you through the following steps:\n",
    "\n",
    "1. Load synthetic linear data (200 samples, 5000 genes/nodes, 20 clusters) and Create adjacency matrix `A`.\n",
    "    - `cv_data_dict[i]['X_train']` (160 sample x 5000 node)\n",
    "    - `cv_data_dict[i]['X_test']` (40 sample x 5000 node)\n",
    "    - `cv_data_dict[i]['y_train']` (160 sample x 1)\n",
    "    - `cv_data_dict[i]['y_test']` (40 sample x 1)\n",
    "    - `i=0,1,...,9` (10 shuffles)\n",
    "\n",
    "2. Set GCN hyperparameters :\n",
    "`epoch, learning rate, regularization, batch_size, number of graph convolutional filters(Fs), polynomial orders(Ks), pooling sizes(Ps), fully connected layers(Ms)`\n",
    "\n",
    "3. Train model\n",
    "\n",
    "4. Make a prediction\n",
    "\n",
    "5. Grad-CAM\n",
    "    - Calculate node important for each sample\n",
    "    - Summarize node important across samples for each class"
   ]
  },
  {
   "cell_type": "code",
   "execution_count": 1,
   "metadata": {
    "ExecuteTime": {
     "end_time": "2021-01-05T08:47:01.642371Z",
     "start_time": "2021-01-05T08:47:00.414230Z"
    }
   },
   "outputs": [],
   "source": [
    "import pandas as pd\n",
    "import numpy as np\n",
    "import networkx as nx \n",
    "import scipy\n",
    "import pickle, os\n",
    "import seaborn as sns\n",
    "import tensorflow as tf\n",
    "\n",
    "from lib import  graph, coarsening, utils, grandline"
   ]
  },
  {
   "cell_type": "markdown",
   "metadata": {},
   "source": [
    "Note: The GPU is not needed here as our sample dataset is small and will take only few minute on CPU. To use GPU, please check https://www.tensorflow.org/guide/gpu for more detail. Grandline is implemented using Tensorflow 2.0.0."
   ]
  },
  {
   "cell_type": "code",
   "execution_count": 2,
   "metadata": {
    "ExecuteTime": {
     "end_time": "2021-01-05T08:47:03.367446Z",
     "start_time": "2021-01-05T08:47:03.364874Z"
    }
   },
   "outputs": [],
   "source": [
    "os.environ['TF_FORCE_GPU_ALLOW_GROWTH'] = 'true'"
   ]
  },
  {
   "cell_type": "markdown",
   "metadata": {},
   "source": [
    "## Read data and preprocessing"
   ]
  },
  {
   "cell_type": "code",
   "execution_count": 3,
   "metadata": {
    "ExecuteTime": {
     "end_time": "2021-01-05T08:47:05.894467Z",
     "start_time": "2021-01-05T08:47:05.834174Z"
    }
   },
   "outputs": [],
   "source": [
    "disease = 'synthetic'\n",
    "disease_type = 'X_linear'\n",
    "input_name = 'RandomPartition_5000_20'\n",
    "input_prefix = 'data/{}_{}'.format(disease_type, input_name)\n",
    "\n",
    "cv_data_dict = pickle.load(open(\"{}_cv.pickle\".format(input_prefix), \"rb\"))\n",
    "n_shuffle = 10"
   ]
  },
  {
   "cell_type": "code",
   "execution_count": 4,
   "metadata": {
    "ExecuteTime": {
     "end_time": "2021-01-05T08:47:08.719350Z",
     "start_time": "2021-01-05T08:47:08.715791Z"
    }
   },
   "outputs": [
    {
     "name": "stdout",
     "output_type": "stream",
     "text": [
      "Number of genes 5000\n",
      "List of genes Index(['N00000', 'N00001', 'N00002', 'N00003', 'N00004', 'N00005', 'N00006',\n",
      "       'N00007', 'N00008', 'N00009',\n",
      "       ...\n",
      "       'N04990', 'N04991', 'N04992', 'N04993', 'N04994', 'N04995', 'N04996',\n",
      "       'N04997', 'N04998', 'N04999'],\n",
      "      dtype='object', length=5000)\n"
     ]
    }
   ],
   "source": [
    "gene_list = cv_data_dict[0]['X_train'].columns\n",
    "d = len(gene_list)\n",
    "\n",
    "print (\"Number of genes\", d)\n",
    "print (\"List of genes\", gene_list)"
   ]
  },
  {
   "cell_type": "code",
   "execution_count": 5,
   "metadata": {
    "ExecuteTime": {
     "end_time": "2021-01-05T08:47:10.101925Z",
     "start_time": "2021-01-05T08:47:10.097211Z"
    }
   },
   "outputs": [
    {
     "name": "stdout",
     "output_type": "stream",
     "text": [
      "Number of classes 2\n"
     ]
    }
   ],
   "source": [
    "temp_df = cv_data_dict[0]['y_train']\n",
    "C = temp_df.groupby(temp_df.columns[0]).size().shape[0]\n",
    "print (\"Number of classes\", C)"
   ]
  },
  {
   "cell_type": "markdown",
   "metadata": {},
   "source": [
    "### Change DataFrame to numpy array and reshape"
   ]
  },
  {
   "cell_type": "code",
   "execution_count": 6,
   "metadata": {
    "ExecuteTime": {
     "end_time": "2021-01-05T08:47:17.490984Z",
     "start_time": "2021-01-05T08:47:17.488602Z"
    }
   },
   "outputs": [],
   "source": [
    "current_shuffle = 0"
   ]
  },
  {
   "cell_type": "code",
   "execution_count": 7,
   "metadata": {
    "ExecuteTime": {
     "end_time": "2021-01-05T08:47:18.060474Z",
     "start_time": "2021-01-05T08:47:18.052967Z"
    }
   },
   "outputs": [],
   "source": [
    "for name in ['X_train', 'X_test']:    \n",
    "    cv_data_dict[current_shuffle][name]= cv_data_dict[current_shuffle][name].values.astype(np.float32)\n",
    "\n",
    "for name in ['y_train', 'y_test']:    \n",
    "    cv_data_dict[current_shuffle][name] = cv_data_dict[current_shuffle][name].values.astype(np.uint8)\n",
    "        \n",
    "\n",
    "cv_data_dict[current_shuffle]['y_test'] = cv_data_dict[current_shuffle]['y_test'].reshape((cv_data_dict[current_shuffle]['y_test'].shape[0],))\n",
    "cv_data_dict[current_shuffle]['y_train'] = cv_data_dict[current_shuffle]['y_train'].reshape((cv_data_dict[current_shuffle]['y_train'].shape[0],))"
   ]
  },
  {
   "cell_type": "code",
   "execution_count": 8,
   "metadata": {
    "ExecuteTime": {
     "end_time": "2021-01-05T08:47:19.100276Z",
     "start_time": "2021-01-05T08:47:19.097224Z"
    }
   },
   "outputs": [],
   "source": [
    "X_train = cv_data_dict[current_shuffle]['X_train']\n",
    "y_train = cv_data_dict[current_shuffle]['y_train']\n",
    "X_test = cv_data_dict[current_shuffle]['X_test']\n",
    "y_test = cv_data_dict[current_shuffle]['y_test']"
   ]
  },
  {
   "cell_type": "markdown",
   "metadata": {},
   "source": [
    "### Create adjacency matrix A"
   ]
  },
  {
   "cell_type": "code",
   "execution_count": 9,
   "metadata": {
    "ExecuteTime": {
     "end_time": "2021-01-05T08:47:20.996838Z",
     "start_time": "2021-01-05T08:47:20.389044Z"
    }
   },
   "outputs": [
    {
     "name": "stdout",
     "output_type": "stream",
     "text": [
      "Created A 5000x5000\n"
     ]
    }
   ],
   "source": [
    "A = utils.prepare_adjacency('data/A_{}.csv'.format(input_name), gene_list)\n",
    "print (\"Created A {}x{}\".format(A.shape[0], A.shape[1]))"
   ]
  },
  {
   "cell_type": "markdown",
   "metadata": {},
   "source": [
    "## GCN hyperparameters\n"
   ]
  },
  {
   "cell_type": "code",
   "execution_count": 10,
   "metadata": {
    "ExecuteTime": {
     "end_time": "2021-01-05T08:47:22.035618Z",
     "start_time": "2021-01-05T08:47:22.031126Z"
    }
   },
   "outputs": [],
   "source": [
    "params = dict()\n",
    "params['num_epochs']     = 15\n",
    "params['learning_rate']  = 1e-3\n",
    "params['filter_name']    = 'chebyshev'\n",
    "\n",
    "seed = 8\n",
    "\n",
    "params['Fs']              = [20, 20]  # Number of graph convolutional filters. \n",
    "params['Ks']              = [10, 10]  # Polynomial orders.\n",
    "params['Ps']              = [2, 2]  # Pooling sizes. \n",
    "params['Ms']              = [C]  # Output dimensionality of fully connected layers.\n",
    "\n",
    "params['regularization'] = 1e-5\n",
    "params['batch_size'] = X_train.shape[0]\n"
   ]
  },
  {
   "cell_type": "markdown",
   "metadata": {},
   "source": [
    "### Calculate normalized laplacian (L) for each level"
   ]
  },
  {
   "cell_type": "code",
   "execution_count": 11,
   "metadata": {
    "ExecuteTime": {
     "end_time": "2021-01-05T08:47:32.319661Z",
     "start_time": "2021-01-05T08:47:24.726552Z"
    }
   },
   "outputs": [
    {
     "name": "stdout",
     "output_type": "stream",
     "text": [
      "Coarsening level: 2\n",
      "Layer 0: M_0 = |V| = 5032 nodes (32 added),|E| = 307436 edges\n",
      "Layer 1: M_1 = |V| = 2516 nodes (5 added),|E| = 218625 edges\n",
      "Layer 2: M_2 = |V| = 1258 nodes (0 added),|E| = 123181 edges\n"
     ]
    }
   ],
   "source": [
    "n_level_coarsen = int(np.log2(params['Ps']).sum())\n",
    "print (\"Coarsening level:\", n_level_coarsen)\n",
    "Ls, graphs, perms = graph.calculate_laplacian(A, levels=n_level_coarsen)"
   ]
  },
  {
   "cell_type": "markdown",
   "metadata": {},
   "source": [
    "### Arrange features/genes according to permutation (from coarsening)"
   ]
  },
  {
   "cell_type": "code",
   "execution_count": 12,
   "metadata": {
    "ExecuteTime": {
     "end_time": "2021-01-05T08:47:32.332805Z",
     "start_time": "2021-01-05T08:47:32.320580Z"
    }
   },
   "outputs": [],
   "source": [
    "if perms is not None:\n",
    "    X_train = coarsening.perm_data(X_train, perms[0])\n",
    "    X_test = coarsening.perm_data(X_test, perms[0])"
   ]
  },
  {
   "cell_type": "code",
   "execution_count": 13,
   "metadata": {
    "ExecuteTime": {
     "end_time": "2021-01-05T08:47:32.335799Z",
     "start_time": "2021-01-05T08:47:32.333803Z"
    }
   },
   "outputs": [],
   "source": [
    "from tensorflow.keras.utils import to_categorical \n",
    "y_train = to_categorical(y_train)\n",
    "y_test = to_categorical(y_test)"
   ]
  },
  {
   "cell_type": "code",
   "execution_count": 14,
   "metadata": {
    "ExecuteTime": {
     "end_time": "2021-01-05T08:47:32.345623Z",
     "start_time": "2021-01-05T08:47:32.337426Z"
    }
   },
   "outputs": [
    {
     "data": {
      "text/plain": [
       "((160, 5032, 1), (40, 5032, 1))"
      ]
     },
     "execution_count": 14,
     "metadata": {},
     "output_type": "execute_result"
    }
   ],
   "source": [
    "X_train = np.expand_dims(X_train, 2)\n",
    "X_test = np.expand_dims(X_test, 2)\n",
    "\n",
    "X_train.shape, X_test.shape"
   ]
  },
  {
   "cell_type": "markdown",
   "metadata": {},
   "source": [
    "## Train GCN model"
   ]
  },
  {
   "cell_type": "code",
   "execution_count": 15,
   "metadata": {
    "ExecuteTime": {
     "end_time": "2021-01-05T08:47:35.602683Z",
     "start_time": "2021-01-05T08:47:35.597917Z"
    }
   },
   "outputs": [],
   "source": [
    "tf.keras.backend.clear_session()"
   ]
  },
  {
   "cell_type": "code",
   "execution_count": 16,
   "metadata": {
    "ExecuteTime": {
     "end_time": "2021-01-05T08:47:36.273856Z",
     "start_time": "2021-01-05T08:47:35.748658Z"
    },
    "scrolled": false
   },
   "outputs": [],
   "source": [
    "model, model_logit = grandline.build_gcn_model(graphs, Ls, **params)\n",
    "\n",
    "model.compile(optimizer=tf.keras.optimizers.Adam(learning_rate=params['learning_rate'], name='Adam'), \n",
    "              loss=tf.keras.losses.BinaryCrossentropy(from_logits=False), \n",
    "              metrics=['accuracy'])\n",
    "model.build(input_shape=X_train.shape)"
   ]
  },
  {
   "cell_type": "markdown",
   "metadata": {},
   "source": [
    "### Call back functions"
   ]
  },
  {
   "cell_type": "code",
   "execution_count": 17,
   "metadata": {
    "ExecuteTime": {
     "end_time": "2021-01-05T08:47:36.276826Z",
     "start_time": "2021-01-05T08:47:36.274930Z"
    }
   },
   "outputs": [],
   "source": [
    "earlystop_callback = tf.keras.callbacks.EarlyStopping(monitor='val_accuracy', \n",
    "                                                      min_delta=0.001, \n",
    "                                                      patience=15,\n",
    "                                                      verbose=1,\n",
    "                                                      mode='max',\n",
    "                                                      baseline=None, \n",
    "                                                      restore_best_weights=True)"
   ]
  },
  {
   "cell_type": "markdown",
   "metadata": {},
   "source": [
    "### Define class weight"
   ]
  },
  {
   "cell_type": "code",
   "execution_count": 18,
   "metadata": {
    "ExecuteTime": {
     "end_time": "2021-01-05T08:47:39.268197Z",
     "start_time": "2021-01-05T08:47:39.262425Z"
    }
   },
   "outputs": [
    {
     "data": {
      "text/plain": [
       "{0: 1.0, 1: 1.0}"
      ]
     },
     "execution_count": 18,
     "metadata": {},
     "output_type": "execute_result"
    }
   ],
   "source": [
    "from sklearn.utils import class_weight\n",
    "\n",
    "y_train_class_name = np.argmax(y_train, axis=1)\n",
    "class_weights = class_weight.compute_class_weight('balanced',\n",
    "                                                  np.unique(y_train_class_name),\n",
    "                                                  y_train_class_name)\n",
    "class_weights = dict(enumerate(class_weights))\n",
    "class_weights"
   ]
  },
  {
   "cell_type": "markdown",
   "metadata": {},
   "source": [
    "### Start model training"
   ]
  },
  {
   "cell_type": "code",
   "execution_count": 19,
   "metadata": {
    "ExecuteTime": {
     "end_time": "2021-01-05T08:49:49.295920Z",
     "start_time": "2021-01-05T08:47:39.817221Z"
    },
    "scrolled": false
   },
   "outputs": [
    {
     "name": "stdout",
     "output_type": "stream",
     "text": [
      "Train on 160 samples, validate on 40 samples\n",
      "Epoch 1/15\n",
      "160/160 [==============================] - 10s 63ms/sample - loss: 0.7290 - accuracy: 0.4938 - val_loss: 0.5427 - val_accuracy: 0.5250\n",
      "Epoch 2/15\n",
      "160/160 [==============================] - 9s 54ms/sample - loss: 0.5442 - accuracy: 0.5188 - val_loss: 0.1159 - val_accuracy: 1.0000\n",
      "Epoch 3/15\n",
      "160/160 [==============================] - 9s 55ms/sample - loss: 0.1315 - accuracy: 1.0000 - val_loss: 0.1064 - val_accuracy: 1.0000\n",
      "Epoch 4/15\n",
      "160/160 [==============================] - 9s 54ms/sample - loss: 0.1453 - accuracy: 1.0000 - val_loss: 0.0693 - val_accuracy: 1.0000\n",
      "Epoch 5/15\n",
      "160/160 [==============================] - 8s 53ms/sample - loss: 0.0990 - accuracy: 1.0000 - val_loss: 0.0229 - val_accuracy: 1.0000\n",
      "Epoch 6/15\n",
      "160/160 [==============================] - 8s 52ms/sample - loss: 0.0336 - accuracy: 1.0000 - val_loss: 0.0068 - val_accuracy: 1.0000\n",
      "Epoch 7/15\n",
      "160/160 [==============================] - 8s 53ms/sample - loss: 0.0095 - accuracy: 1.0000 - val_loss: 0.0028 - val_accuracy: 1.0000\n",
      "Epoch 8/15\n",
      "160/160 [==============================] - 8s 52ms/sample - loss: 0.0034 - accuracy: 1.0000 - val_loss: 0.0019 - val_accuracy: 1.0000\n",
      "Epoch 9/15\n",
      "160/160 [==============================] - 8s 53ms/sample - loss: 0.0018 - accuracy: 1.0000 - val_loss: 0.0016 - val_accuracy: 1.0000\n",
      "Epoch 10/15\n",
      "160/160 [==============================] - 9s 54ms/sample - loss: 0.0014 - accuracy: 1.0000 - val_loss: 0.0016 - val_accuracy: 1.0000\n",
      "Epoch 11/15\n",
      "160/160 [==============================] - 9s 54ms/sample - loss: 0.0013 - accuracy: 1.0000 - val_loss: 0.0016 - val_accuracy: 1.0000\n",
      "Epoch 12/15\n",
      "160/160 [==============================] - 8s 52ms/sample - loss: 0.0012 - accuracy: 1.0000 - val_loss: 0.0016 - val_accuracy: 1.0000\n",
      "Epoch 13/15\n",
      "160/160 [==============================] - 9s 53ms/sample - loss: 0.0012 - accuracy: 1.0000 - val_loss: 0.0015 - val_accuracy: 1.0000\n",
      "Epoch 14/15\n",
      "160/160 [==============================] - 9s 54ms/sample - loss: 0.0011 - accuracy: 1.0000 - val_loss: 0.0014 - val_accuracy: 1.0000\n",
      "Epoch 15/15\n",
      "160/160 [==============================] - 8s 53ms/sample - loss: 0.0010 - accuracy: 1.0000 - val_loss: 0.0013 - val_accuracy: 1.0000\n"
     ]
    }
   ],
   "source": [
    "history = model.fit(x=X_train,\n",
    "                    y=y_train,\n",
    "                    epochs=params['num_epochs'],\n",
    "                    validation_data=[X_test, y_test],\n",
    "                    batch_size=params['batch_size'],\n",
    "                    class_weight=class_weights,\n",
    "                    callbacks=[earlystop_callback], # checkpoint_callback\n",
    "                    verbose=1, shuffle=True)"
   ]
  },
  {
   "cell_type": "markdown",
   "metadata": {},
   "source": [
    "## Make a prediction "
   ]
  },
  {
   "cell_type": "code",
   "execution_count": 20,
   "metadata": {
    "ExecuteTime": {
     "end_time": "2021-01-05T08:49:49.301942Z",
     "start_time": "2021-01-05T08:49:49.297417Z"
    }
   },
   "outputs": [],
   "source": [
    "logit_model = tf.keras.Model(inputs=model_logit.inputs, outputs=model_logit.outputs)"
   ]
  },
  {
   "cell_type": "code",
   "execution_count": 21,
   "metadata": {
    "ExecuteTime": {
     "end_time": "2021-01-05T08:49:50.438071Z",
     "start_time": "2021-01-05T08:49:49.303682Z"
    }
   },
   "outputs": [
    {
     "name": "stdout",
     "output_type": "stream",
     "text": [
      "Predicted values:\n"
     ]
    },
    {
     "data": {
      "text/plain": [
       "array([0, 0, 0, 0, 0, 0, 0, 0, 0, 0, 0, 0, 0, 0, 0, 0, 0, 0, 0, 0, 1, 1,\n",
       "       1, 1, 1, 1, 1, 1, 1, 1, 1, 1, 1, 1, 1, 1, 1, 1, 1, 1])"
      ]
     },
     "execution_count": 21,
     "metadata": {},
     "output_type": "execute_result"
    }
   ],
   "source": [
    "predict = model.predict(x=X_test)\n",
    "print (\"Predicted values:\")\n",
    "np.argmax(predict, axis=1)"
   ]
  },
  {
   "cell_type": "code",
   "execution_count": 22,
   "metadata": {
    "ExecuteTime": {
     "end_time": "2021-01-05T08:49:50.441959Z",
     "start_time": "2021-01-05T08:49:50.439181Z"
    }
   },
   "outputs": [
    {
     "name": "stdout",
     "output_type": "stream",
     "text": [
      "True values:\n"
     ]
    },
    {
     "data": {
      "text/plain": [
       "array([0, 0, 0, 0, 0, 0, 0, 0, 0, 0, 0, 0, 0, 0, 0, 0, 0, 0, 0, 0, 1, 1,\n",
       "       1, 1, 1, 1, 1, 1, 1, 1, 1, 1, 1, 1, 1, 1, 1, 1, 1, 1])"
      ]
     },
     "execution_count": 22,
     "metadata": {},
     "output_type": "execute_result"
    }
   ],
   "source": [
    "print (\"True values:\")\n",
    "np.argmax(y_test, axis=1)"
   ]
  },
  {
   "cell_type": "markdown",
   "metadata": {},
   "source": [
    "## Grad-CAM\n",
    "\n",
    "### Calculate node important for each sample\n",
    "\n",
    "`cal_gradcam` function returns node importance of the last covolutional layer."
   ]
  },
  {
   "cell_type": "code",
   "execution_count": 23,
   "metadata": {
    "ExecuteTime": {
     "end_time": "2021-01-05T08:50:43.451388Z",
     "start_time": "2021-01-05T08:49:50.442830Z"
    }
   },
   "outputs": [],
   "source": [
    "num_train = X_train.shape[0]\n",
    "\n",
    "sample_label = []\n",
    "node_importance = []\n",
    "\n",
    "for selected_sample_id in range(num_train):\n",
    "    X_input = np.expand_dims(X_train[selected_sample_id], 0).astype('float32')\n",
    "    sample_label += [np.argmax(y_train[selected_sample_id])]\n",
    "    node_importance += [grandline.cal_gradcam(selected_sample_id, X_input, logit_model)]"
   ]
  },
  {
   "cell_type": "markdown",
   "metadata": {},
   "source": [
    "Create DataFrame for node importance"
   ]
  },
  {
   "cell_type": "code",
   "execution_count": 24,
   "metadata": {
    "ExecuteTime": {
     "end_time": "2021-01-05T08:50:43.467386Z",
     "start_time": "2021-01-05T08:50:43.452515Z"
    }
   },
   "outputs": [
    {
     "data": {
      "text/html": [
       "<div>\n",
       "<style scoped>\n",
       "    .dataframe tbody tr th:only-of-type {\n",
       "        vertical-align: middle;\n",
       "    }\n",
       "\n",
       "    .dataframe tbody tr th {\n",
       "        vertical-align: top;\n",
       "    }\n",
       "\n",
       "    .dataframe thead th {\n",
       "        text-align: right;\n",
       "    }\n",
       "</style>\n",
       "<table border=\"1\" class=\"dataframe\">\n",
       "  <thead>\n",
       "    <tr style=\"text-align: right;\">\n",
       "      <th></th>\n",
       "      <th>0</th>\n",
       "      <th>1</th>\n",
       "      <th>2</th>\n",
       "      <th>3</th>\n",
       "      <th>4</th>\n",
       "      <th>5</th>\n",
       "      <th>6</th>\n",
       "      <th>7</th>\n",
       "      <th>8</th>\n",
       "      <th>9</th>\n",
       "      <th>...</th>\n",
       "      <th>2506</th>\n",
       "      <th>2507</th>\n",
       "      <th>2508</th>\n",
       "      <th>2509</th>\n",
       "      <th>2510</th>\n",
       "      <th>2511</th>\n",
       "      <th>2512</th>\n",
       "      <th>2513</th>\n",
       "      <th>2514</th>\n",
       "      <th>2515</th>\n",
       "    </tr>\n",
       "  </thead>\n",
       "  <tbody>\n",
       "    <tr>\n",
       "      <td>0</td>\n",
       "      <td>-0.001457</td>\n",
       "      <td>-0.000658</td>\n",
       "      <td>-0.000733</td>\n",
       "      <td>-0.000727</td>\n",
       "      <td>0.003130</td>\n",
       "      <td>0.001816</td>\n",
       "      <td>0.004044</td>\n",
       "      <td>0.002066</td>\n",
       "      <td>0.000154</td>\n",
       "      <td>-0.001147</td>\n",
       "      <td>...</td>\n",
       "      <td>-0.001599</td>\n",
       "      <td>-0.005290</td>\n",
       "      <td>0.007975</td>\n",
       "      <td>-0.000044</td>\n",
       "      <td>-0.001514</td>\n",
       "      <td>-0.000064</td>\n",
       "      <td>0.002345</td>\n",
       "      <td>-0.000007</td>\n",
       "      <td>0.000932</td>\n",
       "      <td>-0.000126</td>\n",
       "    </tr>\n",
       "    <tr>\n",
       "      <td>1</td>\n",
       "      <td>-0.001471</td>\n",
       "      <td>-0.001410</td>\n",
       "      <td>-0.001095</td>\n",
       "      <td>0.000314</td>\n",
       "      <td>0.002567</td>\n",
       "      <td>0.001859</td>\n",
       "      <td>0.000670</td>\n",
       "      <td>0.001257</td>\n",
       "      <td>-0.000360</td>\n",
       "      <td>-0.001298</td>\n",
       "      <td>...</td>\n",
       "      <td>-0.001241</td>\n",
       "      <td>-0.004373</td>\n",
       "      <td>0.002956</td>\n",
       "      <td>-0.000044</td>\n",
       "      <td>-0.002076</td>\n",
       "      <td>-0.000064</td>\n",
       "      <td>0.003270</td>\n",
       "      <td>-0.000007</td>\n",
       "      <td>0.001820</td>\n",
       "      <td>-0.000126</td>\n",
       "    </tr>\n",
       "    <tr>\n",
       "      <td>2</td>\n",
       "      <td>-0.001803</td>\n",
       "      <td>-0.001020</td>\n",
       "      <td>-0.001258</td>\n",
       "      <td>-0.000016</td>\n",
       "      <td>0.003903</td>\n",
       "      <td>0.001099</td>\n",
       "      <td>0.004608</td>\n",
       "      <td>0.001858</td>\n",
       "      <td>-0.000683</td>\n",
       "      <td>-0.001354</td>\n",
       "      <td>...</td>\n",
       "      <td>-0.000704</td>\n",
       "      <td>-0.002962</td>\n",
       "      <td>0.006517</td>\n",
       "      <td>-0.000044</td>\n",
       "      <td>0.001108</td>\n",
       "      <td>-0.000064</td>\n",
       "      <td>0.001586</td>\n",
       "      <td>-0.000007</td>\n",
       "      <td>0.001122</td>\n",
       "      <td>-0.000126</td>\n",
       "    </tr>\n",
       "    <tr>\n",
       "      <td>3</td>\n",
       "      <td>-0.001731</td>\n",
       "      <td>-0.001297</td>\n",
       "      <td>-0.002513</td>\n",
       "      <td>-0.000407</td>\n",
       "      <td>0.004001</td>\n",
       "      <td>0.001575</td>\n",
       "      <td>0.001283</td>\n",
       "      <td>0.001939</td>\n",
       "      <td>-0.002006</td>\n",
       "      <td>-0.001421</td>\n",
       "      <td>...</td>\n",
       "      <td>-0.002811</td>\n",
       "      <td>-0.006517</td>\n",
       "      <td>0.009819</td>\n",
       "      <td>-0.000044</td>\n",
       "      <td>-0.001728</td>\n",
       "      <td>-0.000064</td>\n",
       "      <td>0.007483</td>\n",
       "      <td>-0.000007</td>\n",
       "      <td>0.000288</td>\n",
       "      <td>-0.000126</td>\n",
       "    </tr>\n",
       "    <tr>\n",
       "      <td>4</td>\n",
       "      <td>-0.001476</td>\n",
       "      <td>-0.001170</td>\n",
       "      <td>-0.000524</td>\n",
       "      <td>-0.003466</td>\n",
       "      <td>0.001153</td>\n",
       "      <td>0.000913</td>\n",
       "      <td>0.003735</td>\n",
       "      <td>0.002841</td>\n",
       "      <td>-0.000832</td>\n",
       "      <td>-0.001133</td>\n",
       "      <td>...</td>\n",
       "      <td>0.000979</td>\n",
       "      <td>-0.005068</td>\n",
       "      <td>0.006627</td>\n",
       "      <td>-0.000044</td>\n",
       "      <td>-0.000374</td>\n",
       "      <td>-0.000064</td>\n",
       "      <td>0.004039</td>\n",
       "      <td>-0.000007</td>\n",
       "      <td>0.000554</td>\n",
       "      <td>-0.000126</td>\n",
       "    </tr>\n",
       "  </tbody>\n",
       "</table>\n",
       "<p>5 rows × 2516 columns</p>\n",
       "</div>"
      ],
      "text/plain": [
       "       0         1         2         3         4         5         6     \\\n",
       "0 -0.001457 -0.000658 -0.000733 -0.000727  0.003130  0.001816  0.004044   \n",
       "1 -0.001471 -0.001410 -0.001095  0.000314  0.002567  0.001859  0.000670   \n",
       "2 -0.001803 -0.001020 -0.001258 -0.000016  0.003903  0.001099  0.004608   \n",
       "3 -0.001731 -0.001297 -0.002513 -0.000407  0.004001  0.001575  0.001283   \n",
       "4 -0.001476 -0.001170 -0.000524 -0.003466  0.001153  0.000913  0.003735   \n",
       "\n",
       "       7         8         9     ...      2506      2507      2508      2509  \\\n",
       "0  0.002066  0.000154 -0.001147  ... -0.001599 -0.005290  0.007975 -0.000044   \n",
       "1  0.001257 -0.000360 -0.001298  ... -0.001241 -0.004373  0.002956 -0.000044   \n",
       "2  0.001858 -0.000683 -0.001354  ... -0.000704 -0.002962  0.006517 -0.000044   \n",
       "3  0.001939 -0.002006 -0.001421  ... -0.002811 -0.006517  0.009819 -0.000044   \n",
       "4  0.002841 -0.000832 -0.001133  ...  0.000979 -0.005068  0.006627 -0.000044   \n",
       "\n",
       "       2510      2511      2512      2513      2514      2515  \n",
       "0 -0.001514 -0.000064  0.002345 -0.000007  0.000932 -0.000126  \n",
       "1 -0.002076 -0.000064  0.003270 -0.000007  0.001820 -0.000126  \n",
       "2  0.001108 -0.000064  0.001586 -0.000007  0.001122 -0.000126  \n",
       "3 -0.001728 -0.000064  0.007483 -0.000007  0.000288 -0.000126  \n",
       "4 -0.000374 -0.000064  0.004039 -0.000007  0.000554 -0.000126  \n",
       "\n",
       "[5 rows x 2516 columns]"
      ]
     },
     "execution_count": 24,
     "metadata": {},
     "output_type": "execute_result"
    }
   ],
   "source": [
    "importance_allnode_df = pd.DataFrame(np.array(node_importance))\n",
    "node_columns = importance_allnode_df.columns\n",
    "importance_allnode_df.head()"
   ]
  },
  {
   "cell_type": "markdown",
   "metadata": {},
   "source": [
    "Infer node important values to each node in the input graph. Here we consider absolute important values."
   ]
  },
  {
   "cell_type": "code",
   "execution_count": 25,
   "metadata": {
    "ExecuteTime": {
     "end_time": "2021-01-05T08:50:43.470547Z",
     "start_time": "2021-01-05T08:50:43.468282Z"
    }
   },
   "outputs": [],
   "source": [
    "importance_allnode_df = importance_allnode_df.abs()"
   ]
  },
  {
   "cell_type": "code",
   "execution_count": 26,
   "metadata": {
    "ExecuteTime": {
     "end_time": "2021-01-05T08:50:44.389685Z",
     "start_time": "2021-01-05T08:50:43.471892Z"
    }
   },
   "outputs": [
    {
     "data": {
      "text/html": [
       "<div>\n",
       "<style scoped>\n",
       "    .dataframe tbody tr th:only-of-type {\n",
       "        vertical-align: middle;\n",
       "    }\n",
       "\n",
       "    .dataframe tbody tr th {\n",
       "        vertical-align: top;\n",
       "    }\n",
       "\n",
       "    .dataframe thead th {\n",
       "        text-align: right;\n",
       "    }\n",
       "</style>\n",
       "<table border=\"1\" class=\"dataframe\">\n",
       "  <thead>\n",
       "    <tr style=\"text-align: right;\">\n",
       "      <th></th>\n",
       "      <th>train_0</th>\n",
       "      <th>train_1</th>\n",
       "      <th>train_2</th>\n",
       "      <th>train_3</th>\n",
       "      <th>train_4</th>\n",
       "      <th>train_5</th>\n",
       "      <th>train_6</th>\n",
       "      <th>train_7</th>\n",
       "      <th>train_8</th>\n",
       "      <th>train_9</th>\n",
       "      <th>...</th>\n",
       "      <th>train_150</th>\n",
       "      <th>train_151</th>\n",
       "      <th>train_152</th>\n",
       "      <th>train_153</th>\n",
       "      <th>train_154</th>\n",
       "      <th>train_155</th>\n",
       "      <th>train_156</th>\n",
       "      <th>train_157</th>\n",
       "      <th>train_158</th>\n",
       "      <th>train_159</th>\n",
       "    </tr>\n",
       "  </thead>\n",
       "  <tbody>\n",
       "    <tr>\n",
       "      <td>N00000</td>\n",
       "      <td>0.000213</td>\n",
       "      <td>0.003232</td>\n",
       "      <td>0.000543</td>\n",
       "      <td>0.000522</td>\n",
       "      <td>0.002714</td>\n",
       "      <td>0.002878</td>\n",
       "      <td>0.004862</td>\n",
       "      <td>0.004200</td>\n",
       "      <td>0.005491</td>\n",
       "      <td>0.001164</td>\n",
       "      <td>...</td>\n",
       "      <td>0.000943</td>\n",
       "      <td>0.002220</td>\n",
       "      <td>0.001092</td>\n",
       "      <td>0.001653</td>\n",
       "      <td>0.001697</td>\n",
       "      <td>0.000617</td>\n",
       "      <td>0.000501</td>\n",
       "      <td>0.000055</td>\n",
       "      <td>0.001606</td>\n",
       "      <td>0.001673</td>\n",
       "    </tr>\n",
       "    <tr>\n",
       "      <td>N00001</td>\n",
       "      <td>0.001194</td>\n",
       "      <td>0.002905</td>\n",
       "      <td>0.001239</td>\n",
       "      <td>0.002255</td>\n",
       "      <td>0.000218</td>\n",
       "      <td>0.001857</td>\n",
       "      <td>0.002158</td>\n",
       "      <td>0.001485</td>\n",
       "      <td>0.001985</td>\n",
       "      <td>0.002365</td>\n",
       "      <td>...</td>\n",
       "      <td>0.004047</td>\n",
       "      <td>0.002359</td>\n",
       "      <td>0.004383</td>\n",
       "      <td>0.001917</td>\n",
       "      <td>0.004368</td>\n",
       "      <td>0.001851</td>\n",
       "      <td>0.003362</td>\n",
       "      <td>0.003968</td>\n",
       "      <td>0.004877</td>\n",
       "      <td>0.004391</td>\n",
       "    </tr>\n",
       "    <tr>\n",
       "      <td>N00002</td>\n",
       "      <td>0.005489</td>\n",
       "      <td>0.002887</td>\n",
       "      <td>0.001718</td>\n",
       "      <td>0.002107</td>\n",
       "      <td>0.003082</td>\n",
       "      <td>0.003859</td>\n",
       "      <td>0.006862</td>\n",
       "      <td>0.000435</td>\n",
       "      <td>0.001886</td>\n",
       "      <td>0.003601</td>\n",
       "      <td>...</td>\n",
       "      <td>0.000447</td>\n",
       "      <td>0.000724</td>\n",
       "      <td>0.001299</td>\n",
       "      <td>0.001686</td>\n",
       "      <td>0.001146</td>\n",
       "      <td>0.001637</td>\n",
       "      <td>0.003153</td>\n",
       "      <td>0.001022</td>\n",
       "      <td>0.002315</td>\n",
       "      <td>0.001346</td>\n",
       "    </tr>\n",
       "    <tr>\n",
       "      <td>N00003</td>\n",
       "      <td>0.001857</td>\n",
       "      <td>0.005526</td>\n",
       "      <td>0.002899</td>\n",
       "      <td>0.006016</td>\n",
       "      <td>0.004776</td>\n",
       "      <td>0.005589</td>\n",
       "      <td>0.006640</td>\n",
       "      <td>0.005094</td>\n",
       "      <td>0.005745</td>\n",
       "      <td>0.007854</td>\n",
       "      <td>...</td>\n",
       "      <td>0.000585</td>\n",
       "      <td>0.001389</td>\n",
       "      <td>0.000712</td>\n",
       "      <td>0.001740</td>\n",
       "      <td>0.000578</td>\n",
       "      <td>0.001012</td>\n",
       "      <td>0.000027</td>\n",
       "      <td>0.000147</td>\n",
       "      <td>0.001668</td>\n",
       "      <td>0.000145</td>\n",
       "    </tr>\n",
       "    <tr>\n",
       "      <td>N00004</td>\n",
       "      <td>0.005242</td>\n",
       "      <td>0.005293</td>\n",
       "      <td>0.004814</td>\n",
       "      <td>0.005816</td>\n",
       "      <td>0.006061</td>\n",
       "      <td>0.003648</td>\n",
       "      <td>0.003380</td>\n",
       "      <td>0.006086</td>\n",
       "      <td>0.006143</td>\n",
       "      <td>0.004513</td>\n",
       "      <td>...</td>\n",
       "      <td>0.001608</td>\n",
       "      <td>0.000435</td>\n",
       "      <td>0.001387</td>\n",
       "      <td>0.000877</td>\n",
       "      <td>0.000852</td>\n",
       "      <td>0.002105</td>\n",
       "      <td>0.001764</td>\n",
       "      <td>0.000553</td>\n",
       "      <td>0.001297</td>\n",
       "      <td>0.000452</td>\n",
       "    </tr>\n",
       "  </tbody>\n",
       "</table>\n",
       "<p>5 rows × 160 columns</p>\n",
       "</div>"
      ],
      "text/plain": [
       "         train_0   train_1   train_2   train_3   train_4   train_5   train_6  \\\n",
       "N00000  0.000213  0.003232  0.000543  0.000522  0.002714  0.002878  0.004862   \n",
       "N00001  0.001194  0.002905  0.001239  0.002255  0.000218  0.001857  0.002158   \n",
       "N00002  0.005489  0.002887  0.001718  0.002107  0.003082  0.003859  0.006862   \n",
       "N00003  0.001857  0.005526  0.002899  0.006016  0.004776  0.005589  0.006640   \n",
       "N00004  0.005242  0.005293  0.004814  0.005816  0.006061  0.003648  0.003380   \n",
       "\n",
       "         train_7   train_8   train_9  ...  train_150  train_151  train_152  \\\n",
       "N00000  0.004200  0.005491  0.001164  ...   0.000943   0.002220   0.001092   \n",
       "N00001  0.001485  0.001985  0.002365  ...   0.004047   0.002359   0.004383   \n",
       "N00002  0.000435  0.001886  0.003601  ...   0.000447   0.000724   0.001299   \n",
       "N00003  0.005094  0.005745  0.007854  ...   0.000585   0.001389   0.000712   \n",
       "N00004  0.006086  0.006143  0.004513  ...   0.001608   0.000435   0.001387   \n",
       "\n",
       "        train_153  train_154  train_155  train_156  train_157  train_158  \\\n",
       "N00000   0.001653   0.001697   0.000617   0.000501   0.000055   0.001606   \n",
       "N00001   0.001917   0.004368   0.001851   0.003362   0.003968   0.004877   \n",
       "N00002   0.001686   0.001146   0.001637   0.003153   0.001022   0.002315   \n",
       "N00003   0.001740   0.000578   0.001012   0.000027   0.000147   0.001668   \n",
       "N00004   0.000877   0.000852   0.002105   0.001764   0.000553   0.001297   \n",
       "\n",
       "        train_159  \n",
       "N00000   0.001673  \n",
       "N00001   0.004391  \n",
       "N00002   0.001346  \n",
       "N00003   0.000145  \n",
       "N00004   0.000452  \n",
       "\n",
       "[5 rows x 160 columns]"
      ]
     },
     "execution_count": 26,
     "metadata": {},
     "output_type": "execute_result"
    }
   ],
   "source": [
    "sample_node_important_df_list = []\n",
    "\n",
    "for i in range(num_train):\n",
    "    sample_node_important_df = utils.get_node_importance_df(perms, importance_allnode_df.loc[i, node_columns], d).set_index('node')[['important']]\n",
    "    sample_node_important_df.columns = ['train_{}'.format(i)]\n",
    "    sample_node_important_df_list += [sample_node_important_df]\n",
    "    \n",
    "ipt_df = pd.concat(sample_node_important_df_list, axis=1).reset_index()\n",
    "ipt_df.index = gene_list\n",
    "ipt_df = ipt_df.drop('node', axis=1)\n",
    "ipt_df.head()"
   ]
  },
  {
   "cell_type": "markdown",
   "metadata": {},
   "source": [
    "### Summarize node important across samples for each class"
   ]
  },
  {
   "cell_type": "code",
   "execution_count": 27,
   "metadata": {
    "ExecuteTime": {
     "end_time": "2021-01-05T08:50:44.396354Z",
     "start_time": "2021-01-05T08:50:44.390756Z"
    }
   },
   "outputs": [],
   "source": [
    "ipt_df = ipt_df.T\n",
    "ipt_df.loc[:, 'label'] = sample_label"
   ]
  },
  {
   "cell_type": "code",
   "execution_count": 28,
   "metadata": {
    "ExecuteTime": {
     "end_time": "2021-01-05T08:50:44.408185Z",
     "start_time": "2021-01-05T08:50:44.397379Z"
    }
   },
   "outputs": [
    {
     "data": {
      "text/html": [
       "<div>\n",
       "<style scoped>\n",
       "    .dataframe tbody tr th:only-of-type {\n",
       "        vertical-align: middle;\n",
       "    }\n",
       "\n",
       "    .dataframe tbody tr th {\n",
       "        vertical-align: top;\n",
       "    }\n",
       "\n",
       "    .dataframe thead th {\n",
       "        text-align: right;\n",
       "    }\n",
       "</style>\n",
       "<table border=\"1\" class=\"dataframe\">\n",
       "  <thead>\n",
       "    <tr style=\"text-align: right;\">\n",
       "      <th></th>\n",
       "      <th>label_0</th>\n",
       "      <th>label_1</th>\n",
       "    </tr>\n",
       "    <tr>\n",
       "      <th>Id</th>\n",
       "      <th></th>\n",
       "      <th></th>\n",
       "    </tr>\n",
       "  </thead>\n",
       "  <tbody>\n",
       "    <tr>\n",
       "      <td>N00000</td>\n",
       "      <td>0.227807</td>\n",
       "      <td>0.110702</td>\n",
       "    </tr>\n",
       "    <tr>\n",
       "      <td>N00001</td>\n",
       "      <td>0.154467</td>\n",
       "      <td>0.250200</td>\n",
       "    </tr>\n",
       "    <tr>\n",
       "      <td>N00002</td>\n",
       "      <td>0.298304</td>\n",
       "      <td>0.124068</td>\n",
       "    </tr>\n",
       "    <tr>\n",
       "      <td>N00003</td>\n",
       "      <td>0.429635</td>\n",
       "      <td>0.114606</td>\n",
       "    </tr>\n",
       "    <tr>\n",
       "      <td>N00004</td>\n",
       "      <td>0.411817</td>\n",
       "      <td>0.091072</td>\n",
       "    </tr>\n",
       "    <tr>\n",
       "      <td>...</td>\n",
       "      <td>...</td>\n",
       "      <td>...</td>\n",
       "    </tr>\n",
       "    <tr>\n",
       "      <td>N04995</td>\n",
       "      <td>0.257853</td>\n",
       "      <td>0.271609</td>\n",
       "    </tr>\n",
       "    <tr>\n",
       "      <td>N04996</td>\n",
       "      <td>0.185106</td>\n",
       "      <td>0.106518</td>\n",
       "    </tr>\n",
       "    <tr>\n",
       "      <td>N04997</td>\n",
       "      <td>0.259140</td>\n",
       "      <td>0.217495</td>\n",
       "    </tr>\n",
       "    <tr>\n",
       "      <td>N04998</td>\n",
       "      <td>0.402330</td>\n",
       "      <td>0.103219</td>\n",
       "    </tr>\n",
       "    <tr>\n",
       "      <td>N04999</td>\n",
       "      <td>0.235299</td>\n",
       "      <td>0.275279</td>\n",
       "    </tr>\n",
       "  </tbody>\n",
       "</table>\n",
       "<p>5000 rows × 2 columns</p>\n",
       "</div>"
      ],
      "text/plain": [
       "         label_0   label_1\n",
       "Id                        \n",
       "N00000  0.227807  0.110702\n",
       "N00001  0.154467  0.250200\n",
       "N00002  0.298304  0.124068\n",
       "N00003  0.429635  0.114606\n",
       "N00004  0.411817  0.091072\n",
       "...          ...       ...\n",
       "N04995  0.257853  0.271609\n",
       "N04996  0.185106  0.106518\n",
       "N04997  0.259140  0.217495\n",
       "N04998  0.402330  0.103219\n",
       "N04999  0.235299  0.275279\n",
       "\n",
       "[5000 rows x 2 columns]"
      ]
     },
     "execution_count": 28,
     "metadata": {},
     "output_type": "execute_result"
    }
   ],
   "source": [
    "summary_ipt_df = ipt_df.groupby(['label']).sum().T\n",
    "summary_ipt_df.columns = ['label_0', 'label_1']\n",
    "summary_ipt_df.index.name = 'Id'\n",
    "summary_ipt_df.columns.name = ''\n",
    "summary_ipt_df"
   ]
  },
  {
   "cell_type": "code",
   "execution_count": null,
   "metadata": {},
   "outputs": [],
   "source": []
  }
 ],
 "metadata": {
  "kernelspec": {
   "display_name": "Python 3",
   "language": "python",
   "name": "python3"
  },
  "language_info": {
   "codemirror_mode": {
    "name": "ipython",
    "version": 3
   },
   "file_extension": ".py",
   "mimetype": "text/x-python",
   "name": "python",
   "nbconvert_exporter": "python",
   "pygments_lexer": "ipython3",
   "version": "3.7.9"
  },
  "toc": {
   "base_numbering": 1,
   "nav_menu": {},
   "number_sections": true,
   "sideBar": true,
   "skip_h1_title": false,
   "title_cell": "Table of Contents",
   "title_sidebar": "Contents",
   "toc_cell": false,
   "toc_position": {
    "height": "calc(100% - 180px)",
    "left": "10px",
    "top": "150px",
    "width": "364px"
   },
   "toc_section_display": true,
   "toc_window_display": true
  }
 },
 "nbformat": 4,
 "nbformat_minor": 4
}
